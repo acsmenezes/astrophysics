{
 "cells": [
  {
   "cell_type": "code",
   "execution_count": null,
   "id": "d1200af9",
   "metadata": {},
   "outputs": [],
   "source": [
    "import subprocess\n",
    "import os\n",
    "import fileinput\n",
    "import shutil\n",
    "\n",
    "# Diretório contendo os arquivos .fits\n",
    "diretorio = \"/home/carol/IC/imagens_PSFs_SamplesTCC/GV\"\n",
    "\n",
    "# Localização do executável do Source Extractor\n",
    "#source_extractor_executavel = \"/home/carol/IC/testeSEx/source-extractor\"\n",
    "\n",
    "# Nome do arquivo .sex original\n",
    "nome_config_original = \"config.sex\"\n",
    "\n",
    "# Loop através dos arquivos .fits\n",
    "for i in range(2, 60):\n",
    "    # Nome do arquivo .fits\n",
    "    nome_fits = str(i) + \"r.fits\"\n",
    "\n",
    "    # Caminho completo para o arquivo .fits\n",
    "    caminho_fits = os.path.join(diretorio, nome_fits)\n",
    "\n",
    "    # Nome do arquivo .sex modificado\n",
    "    nome_config_modificado = \"config_modificado.sex\"\n",
    "\n",
    "    # Copia o arquivo .sex original para o arquivo modificado\n",
    "    shutil.copyfile(nome_config_original, nome_config_modificado)\n",
    "\n",
    "\n",
    "    # Comando para executar o Source Extractor\n",
    "    comando = [\"source-extractor\", caminho_fits, \"-c\", nome_config_modificado]\n",
    "\n",
    "    # Modifica a linha desejada no arquivo de configuração\n",
    "    with fileinput.FileInput(nome_config_modificado, inplace=True) as arquivo_config:\n",
    "        for linha in arquivo_config:\n",
    "            # Verifica a linha desejada\n",
    "            if \"CHECKIMAGE_NAME  teste.fits\" in linha:\n",
    "                # Modifica a linha para cada iteração do loop\n",
    "                linha_alterada = linha.replace(\"CHECKIMAGE_NAME  teste.fits\", f\"CHECKIMAGE_NAME {nome_fits}mask\\n\")\n",
    "                print(linha_alterada, end='')\n",
    "            else:\n",
    "                print(linha, end='')\n",
    "\n",
    "    # Executa o comando no terminal\n",
    "    subprocess.run(comando)\n"
   ]
  }
 ],
 "metadata": {
  "kernelspec": {
   "display_name": "Python 3 (ipykernel)",
   "language": "python",
   "name": "python3"
  },
  "language_info": {
   "codemirror_mode": {
    "name": "ipython",
    "version": 3
   },
   "file_extension": ".py",
   "mimetype": "text/x-python",
   "name": "python",
   "nbconvert_exporter": "python",
   "pygments_lexer": "ipython3",
   "version": "3.8.10"
  }
 },
 "nbformat": 4,
 "nbformat_minor": 5
}
